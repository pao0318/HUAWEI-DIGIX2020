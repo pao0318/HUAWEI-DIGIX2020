{
 "cells": [
  {
   "cell_type": "code",
   "execution_count": 1,
   "metadata": {},
   "outputs": [],
   "source": [
    "import numpy as np\n",
    "import pandas as pd\n",
    "import seaborn as sns\n",
    "\n",
    "import random\n",
    "\n"
   ]
  },
  {
   "cell_type": "code",
   "execution_count": null,
   "metadata": {},
   "outputs": [],
   "source": [
    "\n",
    "random.seed(55)\n",
    "p=0.3\n",
    "df_train=pd.read_csv('train_data.csv',header=0,skiprows=lambda i:i>0 and random.random()>p, sep='|')"
   ]
  },
  {
   "cell_type": "markdown",
   "metadata": {},
   "source": [
    "\n",
    "\n",
    "\n",
    "firstc=pd.get_dummies(df_train['creat_type_cd'])\n",
    "firstc=firstc.drop([2,9,4,5],axis=1)\n",
    "\n",
    "\n",
    "df_train=df_train.drop('creat_type_cd',axis=1)\n",
    "\n",
    "df_train=pd.concat([df_train,firstc],axis=1)\n",
    "\n",
    "\n",
    "\n",
    "class_app=pd.get_dummies(df_train['app_first_class'])\n",
    "df_train=df_train.drop('app_first_class',axis=1)\n",
    "df_train=pd.concat([class_app,df_train],axis=1)\n",
    "\n",
    "\n",
    "ages=pd.get_dummies(df_train['age'])\n",
    "df_train=df_train.drop('age',axis=1)\n",
    "df_train=pd.concat([ages,df_train],axis=1)"
   ]
  },
  {
   "cell_type": "code",
   "execution_count": 2,
   "metadata": {},
   "outputs": [],
   "source": [
    "import seaborn as sns"
   ]
  },
  {
   "cell_type": "code",
   "execution_count": 3,
   "metadata": {},
   "outputs": [],
   "source": [
    "random.seed(54)\n",
    "p=0.01\n",
    "c_val=pd.read_csv('train_data.csv',header=0,skiprows=lambda i:i>0 and random.random()>p, sep='|')"
   ]
  },
  {
   "cell_type": "code",
   "execution_count": 4,
   "metadata": {},
   "outputs": [],
   "source": [
    "##sns.heatmap(df_train.corr())"
   ]
  },
  {
   "cell_type": "code",
   "execution_count": 5,
   "metadata": {},
   "outputs": [],
   "source": [
    "X=df_train.drop(['label'],axis=1)\n",
    "y=df_train['label']\n",
    "\n"
   ]
  },
  {
   "cell_type": "code",
   "execution_count": 6,
   "metadata": {},
   "outputs": [],
   "source": [
    "X_cval=c_val.drop(['communication_onlinerate','label','uid'],axis=1)\n",
    "Y_cval=c_val['label']"
   ]
  },
  {
   "cell_type": "code",
   "execution_count": null,
   "metadata": {},
   "outputs": [],
   "source": [
    "from imblearn.over_sampling import RandomOverSampler\n",
    "os=RandomOverSampler(sampling_strategy=0.35)\n",
    "X_res,y_res=os.fit_sample(X,y)"
   ]
  },
  {
   "cell_type": "code",
   "execution_count": null,
   "metadata": {},
   "outputs": [],
   "source": [
    "X_res=X_res.values\n",
    "y_res=y_res.values"
   ]
  },
  {
   "cell_type": "code",
   "execution_count": null,
   "metadata": {},
   "outputs": [],
   "source": [
    "from sklearn.preprocessing import RobustScaler\n",
    "scaler=RobustScaler()\n",
    "X_res=scaler.fit_transform(X_res)\n",
    "\n",
    "X_cval=scaler.transform(X_cval)"
   ]
  },
  {
   "cell_type": "code",
   "execution_count": null,
   "metadata": {},
   "outputs": [],
   "source": [
    "##X_train.shape"
   ]
  },
  {
   "cell_type": "code",
   "execution_count": null,
   "metadata": {},
   "outputs": [],
   "source": [
    "##_test.shape"
   ]
  },
  {
   "cell_type": "code",
   "execution_count": 9,
   "metadata": {},
   "outputs": [],
   "source": [
    "from tensorflow.keras.models import Sequential\n",
    "from tensorflow.keras.layers import Dense"
   ]
  },
  {
   "cell_type": "code",
   "execution_count": 10,
   "metadata": {},
   "outputs": [],
   "source": [
    "model=Sequential()\n",
    "model.add(Dense(200,activation='relu'))\n",
    "model.add(Dense(100,activation='relu'))\n",
    "model.add(Dense(100,activation='relu'))\n",
    "model.add(Dense(50,activation='relu'))\n",
    "model.add(Dense(50,activation='relu'))\n",
    "model.add(Dense(25,activation='relu'))\n",
    "model.add(Dense(20,activation='relu'))\n",
    "model.add(Dense(10,activation='relu'))\n",
    "model.add(Dense(10,activation='relu'))\n",
    "model.add(Dense(5,activation='relu'))\n",
    "\n",
    "model.add(Dense(1,activation='sigmoid'))\n",
    "\n",
    "model.compile(loss='binary_crossentropy', optimizer='adam',metrics=['accuracy'])"
   ]
  },
  {
   "cell_type": "code",
   "execution_count": null,
   "metadata": {},
   "outputs": [],
   "source": [
    "model.fit(x=X_res,y=y_res, epochs=10,verbose=1, batch_size=1000)"
   ]
  },
  {
   "cell_type": "code",
   "execution_count": null,
   "metadata": {},
   "outputs": [],
   "source": [
    "import tensorflow"
   ]
  },
  {
   "cell_type": "code",
   "execution_count": null,
   "metadata": {},
   "outputs": [],
   "source": [
    "import matplotlib.pyplot as plt\n",
    "%matplotlib inline\n",
    "hist=pd.DataFrame(model.history.history)\n",
    "plt.plot(hist)"
   ]
  },
  {
   "cell_type": "code",
   "execution_count": null,
   "metadata": {},
   "outputs": [],
   "source": [
    "model.save('my_model_initialize.h5')"
   ]
  },
  {
   "cell_type": "code",
   "execution_count": null,
   "metadata": {},
   "outputs": [],
   "source": [
    "predictions=model.predict_classes(X_cval)"
   ]
  },
  {
   "cell_type": "code",
   "execution_count": null,
   "metadata": {},
   "outputs": [],
   "source": []
  },
  {
   "cell_type": "code",
   "execution_count": null,
   "metadata": {},
   "outputs": [],
   "source": [
    "from sklearn.metrics import classification_report, confusion_matrix\n",
    "print(classification_report(Y_cval,predictions))\n",
    "print('\\n')\n",
    "print(confusion_matrix(Y_cval,predictions))"
   ]
  },
  {
   "cell_type": "code",
   "execution_count": null,
   "metadata": {},
   "outputs": [],
   "source": []
  },
  {
   "cell_type": "code",
   "execution_count": 13,
   "metadata": {},
   "outputs": [],
   "source": [
    "import tensorflow"
   ]
  },
  {
   "cell_type": "code",
   "execution_count": 5,
   "metadata": {},
   "outputs": [],
   "source": [
    "from imblearn.over_sampling import RandomOverSampler\n",
    "os=RandomOverSampler(sampling_strategy=0.35)"
   ]
  },
  {
   "cell_type": "code",
   "execution_count": 6,
   "metadata": {},
   "outputs": [],
   "source": [
    "from sklearn.preprocessing import RobustScaler\n",
    "scaler=RobustScaler()"
   ]
  },
  {
   "cell_type": "code",
   "execution_count": 14,
   "metadata": {},
   "outputs": [
    {
     "name": "stdout",
     "output_type": "stream",
     "text": [
      "Epoch 1/7\n",
      "2538/2538 [==============================] - 6s 2ms/step - loss: 0.4982 - accuracy: 0.7677\n",
      "Epoch 2/7\n",
      "2538/2538 [==============================] - 6s 2ms/step - loss: 0.4763 - accuracy: 0.7760\n",
      "Epoch 3/7\n",
      "2538/2538 [==============================] - 6s 2ms/step - loss: 0.4611 - accuracy: 0.7820\n",
      "Epoch 4/7\n",
      "2538/2538 [==============================] - 6s 2ms/step - loss: 0.4490 - accuracy: 0.7876\n",
      "Epoch 5/7\n",
      "2538/2538 [==============================] - 6s 3ms/step - loss: 0.4397 - accuracy: 0.7919\n",
      "Epoch 6/7\n",
      "2538/2538 [==============================] - 7s 3ms/step - loss: 0.4314 - accuracy: 0.7959\n",
      "Epoch 7/7\n",
      "2538/2538 [==============================] - 7s 3ms/step - loss: 0.4245 - accuracy: 0.7993\n",
      "WARNING:tensorflow:Error in loading the saved optimizer state. As a result, your model is starting with a freshly initialized optimizer.\n",
      "Epoch 1/7\n",
      "2537/2537 [==============================] - 5s 2ms/step - loss: 0.5145 - accuracy: 0.7596\n",
      "Epoch 2/7\n",
      "2537/2537 [==============================] - 5s 2ms/step - loss: 0.5014 - accuracy: 0.7665\n",
      "Epoch 3/7\n",
      "2537/2537 [==============================] - 5s 2ms/step - loss: 0.4938 - accuracy: 0.7687\n",
      "Epoch 4/7\n",
      "2537/2537 [==============================] - 5s 2ms/step - loss: 0.4879 - accuracy: 0.7700\n",
      "Epoch 5/7\n",
      "2537/2537 [==============================] - 5s 2ms/step - loss: 0.4832 - accuracy: 0.7723\n",
      "Epoch 6/7\n",
      "2537/2537 [==============================] - 5s 2ms/step - loss: 0.4795 - accuracy: 0.7751\n",
      "Epoch 7/7\n",
      "2537/2537 [==============================] - 5s 2ms/step - loss: 0.4762 - accuracy: 0.7774\n",
      "Epoch 1/7\n",
      "2538/2538 [==============================] - 5s 2ms/step - loss: 0.5208 - accuracy: 0.7547\n",
      "Epoch 2/7\n",
      "2538/2538 [==============================] - 5s 2ms/step - loss: 0.5068 - accuracy: 0.7628\n",
      "Epoch 3/7\n",
      "2538/2538 [==============================] - 5s 2ms/step - loss: 0.4987 - accuracy: 0.7665\n",
      "Epoch 4/7\n",
      "2538/2538 [==============================] - 5s 2ms/step - loss: 0.4920 - accuracy: 0.7690\n",
      "Epoch 5/7\n",
      "2538/2538 [==============================] - 5s 2ms/step - loss: 0.4872 - accuracy: 0.7723\n",
      "Epoch 6/7\n",
      "2538/2538 [==============================] - 5s 2ms/step - loss: 0.4828 - accuracy: 0.7761\n",
      "Epoch 7/7\n",
      "2538/2538 [==============================] - 5s 2ms/step - loss: 0.4793 - accuracy: 0.7791\n",
      "Epoch 1/7\n",
      "2537/2537 [==============================] - 5s 2ms/step - loss: 0.5219 - accuracy: 0.7540\n",
      "Epoch 2/7\n",
      "2537/2537 [==============================] - 5s 2ms/step - loss: 0.5080 - accuracy: 0.7620\n",
      "Epoch 3/7\n",
      "2537/2537 [==============================] - 5s 2ms/step - loss: 0.4989 - accuracy: 0.7657\n",
      "Epoch 4/7\n",
      "2537/2537 [==============================] - 5s 2ms/step - loss: 0.4914 - accuracy: 0.7685\n",
      "Epoch 5/7\n",
      "2537/2537 [==============================] - 5s 2ms/step - loss: 0.4856 - accuracy: 0.7726\n",
      "Epoch 6/7\n",
      "2537/2537 [==============================] - 5s 2ms/step - loss: 0.4816 - accuracy: 0.7755\n",
      "Epoch 7/7\n",
      "2537/2537 [==============================] - 5s 2ms/step - loss: 0.4782 - accuracy: 0.7784\n",
      "Epoch 1/7\n",
      "2538/2538 [==============================] - 5s 2ms/step - loss: 0.5228 - accuracy: 0.7538\n",
      "Epoch 2/7\n",
      "2538/2538 [==============================] - 6s 2ms/step - loss: 0.5091 - accuracy: 0.7620\n",
      "Epoch 3/7\n",
      "2538/2538 [==============================] - 6s 2ms/step - loss: 0.5006 - accuracy: 0.7658\n",
      "Epoch 4/7\n",
      "2538/2538 [==============================] - 6s 2ms/step - loss: 0.4937 - accuracy: 0.7687\n",
      "Epoch 5/7\n",
      "2538/2538 [==============================] - 6s 2ms/step - loss: 0.4885 - accuracy: 0.7725\n",
      "Epoch 6/7\n",
      "2538/2538 [==============================] - ETA: 0s - loss: 0.4838 - accuracy: 0.77 - 6s 2ms/step - loss: 0.4838 - accuracy: 0.7758\n",
      "Epoch 7/7\n",
      "2538/2538 [==============================] - 6s 2ms/step - loss: 0.4803 - accuracy: 0.7782\n",
      "Epoch 1/7\n",
      "2537/2537 [==============================] - 5s 2ms/step - loss: 0.5239 - accuracy: 0.7534\n",
      "Epoch 2/7\n",
      "2537/2537 [==============================] - 5s 2ms/step - loss: 0.5095 - accuracy: 0.7612\n",
      "Epoch 3/7\n",
      "2537/2537 [==============================] - 5s 2ms/step - loss: 0.5003 - accuracy: 0.7659\n",
      "Epoch 4/7\n",
      "2537/2537 [==============================] - 5s 2ms/step - loss: 0.4930 - accuracy: 0.7695\n",
      "Epoch 5/7\n",
      "2537/2537 [==============================] - 5s 2ms/step - loss: 0.4877 - accuracy: 0.7732\n",
      "Epoch 6/7\n",
      "2537/2537 [==============================] - 5s 2ms/step - loss: 0.4831 - accuracy: 0.7765\n",
      "Epoch 7/7\n",
      "2537/2537 [==============================] - 5s 2ms/step - loss: 0.4794 - accuracy: 0.7794\n",
      "Epoch 1/7\n",
      "2542/2542 [==============================] - 5s 2ms/step - loss: 0.5141 - accuracy: 0.7604\n",
      "Epoch 2/7\n",
      "2542/2542 [==============================] - 5s 2ms/step - loss: 0.5023 - accuracy: 0.7676\n",
      "Epoch 3/7\n",
      "2542/2542 [==============================] - 5s 2ms/step - loss: 0.4935 - accuracy: 0.7714\n",
      "Epoch 4/7\n",
      "2542/2542 [==============================] - 5s 2ms/step - loss: 0.4862 - accuracy: 0.7736\n",
      "Epoch 5/7\n",
      "2542/2542 [==============================] - 5s 2ms/step - loss: 0.4806 - accuracy: 0.7755\n",
      "Epoch 6/7\n",
      "2542/2542 [==============================] - 5s 2ms/step - loss: 0.4764 - accuracy: 0.7770\n",
      "Epoch 7/7\n",
      "2542/2542 [==============================] - 5s 2ms/step - loss: 0.4729 - accuracy: 0.7779\n",
      "Epoch 1/7\n",
      "2544/2544 [==============================] - 5s 2ms/step - loss: 0.5105 - accuracy: 0.7628\n",
      "Epoch 2/7\n",
      "2544/2544 [==============================] - 5s 2ms/step - loss: 0.4988 - accuracy: 0.7699\n",
      "Epoch 3/7\n",
      "2544/2544 [==============================] - 5s 2ms/step - loss: 0.4903 - accuracy: 0.7737\n",
      "Epoch 4/7\n",
      "2544/2544 [==============================] - 5s 2ms/step - loss: 0.4837 - accuracy: 0.7759\n",
      "Epoch 5/7\n",
      "2544/2544 [==============================] - 5s 2ms/step - loss: 0.4785 - accuracy: 0.7783\n",
      "Epoch 6/7\n",
      "2544/2544 [==============================] - 5s 2ms/step - loss: 0.4741 - accuracy: 0.7796\n",
      "Epoch 7/7\n",
      "2544/2544 [==============================] - 5s 2ms/step - loss: 0.4698 - accuracy: 0.7810\n",
      "Epoch 1/7\n",
      "2544/2544 [==============================] - 5s 2ms/step - loss: 0.5110 - accuracy: 0.7627\n",
      "Epoch 2/7\n",
      "2544/2544 [==============================] - 5s 2ms/step - loss: 0.4988 - accuracy: 0.7697\n",
      "Epoch 3/7\n",
      "2544/2544 [==============================] - 6s 2ms/step - loss: 0.4898 - accuracy: 0.7731\n",
      "Epoch 4/7\n",
      "2544/2544 [==============================] - 5s 2ms/step - loss: 0.4819 - accuracy: 0.7764\n",
      "Epoch 5/7\n",
      "2544/2544 [==============================] - 5s 2ms/step - loss: 0.4755 - accuracy: 0.7790\n",
      "Epoch 6/7\n",
      "2544/2544 [==============================] - 5s 2ms/step - loss: 0.4706 - accuracy: 0.7826\n",
      "Epoch 7/7\n",
      "2544/2544 [==============================] - 6s 2ms/step - loss: 0.4668 - accuracy: 0.7850\n",
      "Epoch 1/7\n",
      "2544/2544 [==============================] - 5s 2ms/step - loss: 0.5104 - accuracy: 0.7625\n",
      "Epoch 2/7\n",
      "2544/2544 [==============================] - 5s 2ms/step - loss: 0.4976 - accuracy: 0.7698\n",
      "Epoch 3/7\n",
      "2544/2544 [==============================] - 5s 2ms/step - loss: 0.4876 - accuracy: 0.7741\n",
      "Epoch 4/7\n",
      "2544/2544 [==============================] - 5s 2ms/step - loss: 0.4790 - accuracy: 0.7762\n",
      "Epoch 5/7\n",
      "2544/2544 [==============================] - 5s 2ms/step - loss: 0.4723 - accuracy: 0.7778\n",
      "Epoch 6/7\n",
      "2544/2544 [==============================] - 5s 2ms/step - loss: 0.4671 - accuracy: 0.7807\n",
      "Epoch 7/7\n",
      "2544/2544 [==============================] - 5s 2ms/step - loss: 0.4633 - accuracy: 0.7830\n",
      "Epoch 1/7\n",
      "2544/2544 [==============================] - 5s 2ms/step - loss: 0.5112 - accuracy: 0.7629\n",
      "Epoch 2/7\n",
      "2544/2544 [==============================] - 5s 2ms/step - loss: 0.4989 - accuracy: 0.7703\n",
      "Epoch 3/7\n",
      "2544/2544 [==============================] - 5s 2ms/step - loss: 0.4890 - accuracy: 0.7748\n",
      "Epoch 4/7\n",
      "2544/2544 [==============================] - 5s 2ms/step - loss: 0.4810 - accuracy: 0.7787\n",
      "Epoch 5/7\n",
      "2544/2544 [==============================] - 6s 2ms/step - loss: 0.4751 - accuracy: 0.7818\n",
      "Epoch 6/7\n",
      "2544/2544 [==============================] - 6s 2ms/step - loss: 0.4705 - accuracy: 0.7855\n",
      "Epoch 7/7\n",
      "2544/2544 [==============================] - 6s 2ms/step - loss: 0.4669 - accuracy: 0.7877\n",
      "Epoch 1/7\n",
      "2549/2549 [==============================] - 6s 2ms/step - loss: 0.5180 - accuracy: 0.7612\n",
      "Epoch 2/7\n",
      "2549/2549 [==============================] - 5s 2ms/step - loss: 0.5052 - accuracy: 0.7678\n",
      "Epoch 3/7\n"
     ]
    },
    {
     "name": "stdout",
     "output_type": "stream",
     "text": [
      "2549/2549 [==============================] - 5s 2ms/step - loss: 0.4965 - accuracy: 0.7719\n",
      "Epoch 4/7\n",
      "2549/2549 [==============================] - 5s 2ms/step - loss: 0.4888 - accuracy: 0.7748\n",
      "Epoch 5/7\n",
      "2549/2549 [==============================] - 5s 2ms/step - loss: 0.4821 - accuracy: 0.7780\n",
      "Epoch 6/7\n",
      "2549/2549 [==============================] - 5s 2ms/step - loss: 0.4761 - accuracy: 0.7823\n",
      "Epoch 7/7\n",
      "2549/2549 [==============================] - 5s 2ms/step - loss: 0.4712 - accuracy: 0.7851\n",
      "Epoch 1/7\n",
      "2550/2550 [==============================] - 7s 3ms/step - loss: 0.5179 - accuracy: 0.7609\n",
      "Epoch 2/7\n",
      "2550/2550 [==============================] - 6s 2ms/step - loss: 0.5049 - accuracy: 0.7689\n",
      "Epoch 3/7\n",
      "2550/2550 [==============================] - 6s 2ms/step - loss: 0.4952 - accuracy: 0.7745\n",
      "Epoch 4/7\n",
      "2550/2550 [==============================] - 6s 2ms/step - loss: 0.4862 - accuracy: 0.7781\n",
      "Epoch 5/7\n",
      "2550/2550 [==============================] - 6s 2ms/step - loss: 0.4790 - accuracy: 0.7814\n",
      "Epoch 6/7\n",
      "2550/2550 [==============================] - 6s 2ms/step - loss: 0.4734 - accuracy: 0.7844\n",
      "Epoch 7/7\n",
      "2550/2550 [==============================] - 6s 3ms/step - loss: 0.4689 - accuracy: 0.7868\n",
      "Epoch 1/7\n",
      "2554/2554 [==============================] - 5s 2ms/step - loss: 0.5196 - accuracy: 0.7619\n",
      "Epoch 2/7\n",
      "2554/2554 [==============================] - 7s 3ms/step - loss: 0.5084 - accuracy: 0.7664\n",
      "Epoch 3/7\n",
      "2554/2554 [==============================] - 7s 3ms/step - loss: 0.4984 - accuracy: 0.7695\n",
      "Epoch 4/7\n",
      "2554/2554 [==============================] - 8s 3ms/step - loss: 0.4917 - accuracy: 0.7721\n",
      "Epoch 5/7\n",
      "2554/2554 [==============================] - 7s 3ms/step - loss: 0.4865 - accuracy: 0.7737\n",
      "Epoch 6/7\n",
      "2554/2554 [==============================] - 6s 2ms/step - loss: 0.4825 - accuracy: 0.7754\n",
      "Epoch 7/7\n",
      "2554/2554 [==============================] - 6s 2ms/step - loss: 0.4784 - accuracy: 0.7774\n",
      "Epoch 1/7\n",
      "2554/2554 [==============================] - 5s 2ms/step - loss: 0.5194 - accuracy: 0.7609\n",
      "Epoch 2/7\n",
      "2554/2554 [==============================] - 6s 2ms/step - loss: 0.5088 - accuracy: 0.7654\n",
      "Epoch 3/7\n",
      "2554/2554 [==============================] - 7s 3ms/step - loss: 0.4974 - accuracy: 0.7700\n",
      "Epoch 4/7\n",
      "2554/2554 [==============================] - 6s 3ms/step - loss: 0.4871 - accuracy: 0.7740\n",
      "Epoch 5/7\n",
      "2554/2554 [==============================] - 7s 3ms/step - loss: 0.4796 - accuracy: 0.7773\n",
      "Epoch 6/7\n",
      "2554/2554 [==============================] - 7s 3ms/step - loss: 0.4735 - accuracy: 0.7796\n",
      "Epoch 7/7\n",
      "2554/2554 [==============================] - 6s 2ms/step - loss: 0.4686 - accuracy: 0.7820\n",
      "Epoch 1/7\n",
      "2555/2555 [==============================] - 6s 2ms/step - loss: 0.5217 - accuracy: 0.7598\n",
      "Epoch 2/7\n",
      "2555/2555 [==============================] - 5s 2ms/step - loss: 0.5114 - accuracy: 0.7638\n",
      "Epoch 3/7\n",
      "2555/2555 [==============================] - 5s 2ms/step - loss: 0.5015 - accuracy: 0.7675\n",
      "Epoch 4/7\n",
      "2555/2555 [==============================] - 6s 2ms/step - loss: 0.4931 - accuracy: 0.7712\n",
      "Epoch 5/7\n",
      "2555/2555 [==============================] - 6s 3ms/step - loss: 0.4871 - accuracy: 0.7742\n",
      "Epoch 6/7\n",
      "2555/2555 [==============================] - 7s 3ms/step - loss: 0.4825 - accuracy: 0.7774\n",
      "Epoch 7/7\n",
      "2555/2555 [==============================] - 6s 2ms/step - loss: 0.4785 - accuracy: 0.7797\n",
      "Epoch 1/7\n",
      "2554/2554 [==============================] - 5s 2ms/step - loss: 0.5198 - accuracy: 0.7605\n",
      "Epoch 2/7\n",
      "2554/2554 [==============================] - 5s 2ms/step - loss: 0.5096 - accuracy: 0.7642\n",
      "Epoch 3/7\n",
      "2554/2554 [==============================] - 5s 2ms/step - loss: 0.5004 - accuracy: 0.7691\n",
      "Epoch 4/7\n",
      "2554/2554 [==============================] - 6s 2ms/step - loss: 0.4924 - accuracy: 0.7729\n",
      "Epoch 5/7\n",
      "2554/2554 [==============================] - 7s 3ms/step - loss: 0.4854 - accuracy: 0.7752\n",
      "Epoch 6/7\n",
      "2554/2554 [==============================] - 6s 2ms/step - loss: 0.4800 - accuracy: 0.7764\n",
      "Epoch 7/7\n",
      "2554/2554 [==============================] - 6s 2ms/step - loss: 0.4754 - accuracy: 0.7772\n",
      "Epoch 1/7\n",
      "2554/2554 [==============================] - 7s 3ms/step - loss: 0.5176 - accuracy: 0.7626\n",
      "Epoch 2/7\n",
      "2554/2554 [==============================] - 6s 2ms/step - loss: 0.5070 - accuracy: 0.7666\n",
      "Epoch 3/7\n",
      "2554/2554 [==============================] - 5s 2ms/step - loss: 0.4970 - accuracy: 0.7699\n",
      "Epoch 4/7\n",
      "2554/2554 [==============================] - 6s 2ms/step - loss: 0.4883 - accuracy: 0.7735\n",
      "Epoch 5/7\n",
      "2554/2554 [==============================] - 7s 3ms/step - loss: 0.4817 - accuracy: 0.7773\n",
      "Epoch 6/7\n",
      "2554/2554 [==============================] - 6s 2ms/step - loss: 0.4757 - accuracy: 0.7801\n",
      "Epoch 7/7\n",
      "2554/2554 [==============================] - 6s 3ms/step - loss: 0.4704 - accuracy: 0.7829\n",
      "Epoch 1/7\n",
      "2554/2554 [==============================] - 5s 2ms/step - loss: 0.5190 - accuracy: 0.7610\n",
      "Epoch 2/7\n",
      "2554/2554 [==============================] - 5s 2ms/step - loss: 0.5090 - accuracy: 0.7655\n",
      "Epoch 3/7\n",
      "2554/2554 [==============================] - 5s 2ms/step - loss: 0.4997 - accuracy: 0.7697\n",
      "Epoch 4/7\n",
      "2554/2554 [==============================] - 7s 3ms/step - loss: 0.4918 - accuracy: 0.7732\n",
      "Epoch 5/7\n",
      "2554/2554 [==============================] - 7s 3ms/step - loss: 0.4860 - accuracy: 0.7755\n",
      "Epoch 6/7\n",
      "2554/2554 [==============================] - 5s 2ms/step - loss: 0.4811 - accuracy: 0.7775\n",
      "Epoch 7/7\n",
      "2554/2554 [==============================] - 6s 2ms/step - loss: 0.4765 - accuracy: 0.7801\n",
      "Epoch 1/7\n",
      "2545/2545 [==============================] - 6s 2ms/step - loss: 0.5137 - accuracy: 0.7636\n",
      "Epoch 2/7\n",
      "2545/2545 [==============================] - 6s 2ms/step - loss: 0.5052 - accuracy: 0.7674\n",
      "Epoch 3/7\n",
      "2545/2545 [==============================] - 6s 2ms/step - loss: 0.4970 - accuracy: 0.7700\n",
      "Epoch 4/7\n",
      "2545/2545 [==============================] - 7s 3ms/step - loss: 0.4893 - accuracy: 0.7717\n",
      "Epoch 5/7\n",
      "2545/2545 [==============================] - 6s 2ms/step - loss: 0.4827 - accuracy: 0.7732\n",
      "Epoch 6/7\n",
      "2545/2545 [==============================] - 6s 2ms/step - loss: 0.4772 - accuracy: 0.7748\n",
      "Epoch 7/7\n",
      "2545/2545 [==============================] - 6s 2ms/step - loss: 0.4725 - accuracy: 0.7761\n",
      "Epoch 1/7\n",
      "2545/2545 [==============================] - 6s 2ms/step - loss: 0.5137 - accuracy: 0.7642\n",
      "Epoch 2/7\n",
      "2545/2545 [==============================] - 6s 2ms/step - loss: 0.5051 - accuracy: 0.7682\n",
      "Epoch 3/7\n",
      "2545/2545 [==============================] - 6s 2ms/step - loss: 0.4962 - accuracy: 0.7722\n",
      "Epoch 4/7\n",
      "2545/2545 [==============================] - 6s 2ms/step - loss: 0.4881 - accuracy: 0.7758\n",
      "Epoch 5/7\n",
      "2545/2545 [==============================] - 6s 2ms/step - loss: 0.4818 - accuracy: 0.7791\n",
      "Epoch 6/7\n",
      "2545/2545 [==============================] - 6s 2ms/step - loss: 0.4769 - accuracy: 0.7806\n",
      "Epoch 7/7\n",
      "2545/2545 [==============================] - 6s 2ms/step - loss: 0.4731 - accuracy: 0.7820\n",
      "Epoch 1/7\n",
      "2545/2545 [==============================] - 6s 2ms/step - loss: 0.5133 - accuracy: 0.7640\n",
      "Epoch 2/7\n",
      "2545/2545 [==============================] - 6s 2ms/step - loss: 0.5040 - accuracy: 0.7679\n",
      "Epoch 3/7\n",
      "2545/2545 [==============================] - 6s 2ms/step - loss: 0.4957 - accuracy: 0.7709\n",
      "Epoch 4/7\n",
      "2545/2545 [==============================] - 6s 2ms/step - loss: 0.4892 - accuracy: 0.7731\n",
      "Epoch 5/7\n",
      "2545/2545 [==============================] - 7s 3ms/step - loss: 0.4844 - accuracy: 0.7753\n",
      "Epoch 6/7\n",
      "2545/2545 [==============================] - 6s 2ms/step - loss: 0.4807 - accuracy: 0.7767\n",
      "Epoch 7/7\n",
      "2545/2545 [==============================] - 6s 2ms/step - loss: 0.4778 - accuracy: 0.7782\n",
      "Epoch 1/7\n",
      "2545/2545 [==============================] - 6s 2ms/step - loss: 0.5111 - accuracy: 0.7636\n",
      "Epoch 2/7\n",
      "2545/2545 [==============================] - 6s 2ms/step - loss: 0.4992 - accuracy: 0.7712\n",
      "Epoch 3/7\n",
      "2545/2545 [==============================] - 6s 2ms/step - loss: 0.4909 - accuracy: 0.7752\n",
      "Epoch 4/7\n",
      "2545/2545 [==============================] - 6s 2ms/step - loss: 0.4843 - accuracy: 0.7792\n",
      "Epoch 5/7\n",
      "2545/2545 [==============================] - 6s 2ms/step - loss: 0.4796 - accuracy: 0.7833\n",
      "Epoch 6/7\n",
      "2545/2545 [==============================] - 6s 2ms/step - loss: 0.4758 - accuracy: 0.7867\n",
      "Epoch 7/7\n"
     ]
    },
    {
     "name": "stdout",
     "output_type": "stream",
     "text": [
      "2545/2545 [==============================] - 6s 2ms/step - loss: 0.4726 - accuracy: 0.7891\n",
      "Epoch 1/7\n",
      "2549/2549 [==============================] - 7s 3ms/step - loss: 0.5006 - accuracy: 0.7698\n",
      "Epoch 2/7\n",
      "2549/2549 [==============================] - 6s 2ms/step - loss: 0.4915 - accuracy: 0.7736\n",
      "Epoch 3/7\n",
      "2549/2549 [==============================] - 6s 2ms/step - loss: 0.4833 - accuracy: 0.7771\n",
      "Epoch 4/7\n",
      "2549/2549 [==============================] - 7s 3ms/step - loss: 0.4767 - accuracy: 0.7796\n",
      "Epoch 5/7\n",
      "2549/2549 [==============================] - 8s 3ms/step - loss: 0.4714 - accuracy: 0.7824\n",
      "Epoch 6/7\n",
      "2549/2549 [==============================] - 7s 3ms/step - loss: 0.4674 - accuracy: 0.7850\n",
      "Epoch 7/7\n",
      "2549/2549 [==============================] - 7s 3ms/step - loss: 0.4636 - accuracy: 0.7875\n",
      "Epoch 1/7\n",
      "2550/2550 [==============================] - 7s 3ms/step - loss: 0.5035 - accuracy: 0.7688\n",
      "Epoch 2/7\n",
      "2550/2550 [==============================] - 7s 3ms/step - loss: 0.4948 - accuracy: 0.7724\n",
      "Epoch 3/7\n",
      "2550/2550 [==============================] - 7s 3ms/step - loss: 0.4852 - accuracy: 0.7771\n",
      "Epoch 4/7\n",
      "2550/2550 [==============================] - 8s 3ms/step - loss: 0.4770 - accuracy: 0.7803\n",
      "Epoch 5/7\n",
      "2550/2550 [==============================] - 7s 3ms/step - loss: 0.4707 - accuracy: 0.7829\n",
      "Epoch 6/7\n",
      "2550/2550 [==============================] - 8s 3ms/step - loss: 0.4656 - accuracy: 0.7847\n",
      "Epoch 7/7\n",
      "2550/2550 [==============================] - 7s 3ms/step - loss: 0.4617 - accuracy: 0.7859\n",
      "Epoch 1/7\n",
      "2550/2550 [==============================] - 7s 3ms/step - loss: 0.5067 - accuracy: 0.7692\n",
      "Epoch 2/7\n",
      "2550/2550 [==============================] - 6s 2ms/step - loss: 0.4974 - accuracy: 0.7736\n",
      "Epoch 3/7\n",
      "2550/2550 [==============================] - 6s 2ms/step - loss: 0.4885 - accuracy: 0.7772\n",
      "Epoch 4/7\n",
      "2550/2550 [==============================] - 6s 2ms/step - loss: 0.4813 - accuracy: 0.7795\n",
      "Epoch 5/7\n",
      "2550/2550 [==============================] - 6s 2ms/step - loss: 0.4759 - accuracy: 0.7813\n",
      "Epoch 6/7\n",
      "2550/2550 [==============================] - 6s 2ms/step - loss: 0.4720 - accuracy: 0.7835\n",
      "Epoch 7/7\n",
      "2550/2550 [==============================] - 7s 3ms/step - loss: 0.4691 - accuracy: 0.7849\n",
      "Epoch 1/7\n",
      "2550/2550 [==============================] - 7s 3ms/step - loss: 0.5028 - accuracy: 0.7705\n",
      "Epoch 2/7\n",
      "2550/2550 [==============================] - 7s 3ms/step - loss: 0.4946 - accuracy: 0.7742\n",
      "Epoch 3/7\n",
      "2550/2550 [==============================] - 6s 3ms/step - loss: 0.4856 - accuracy: 0.7783\n",
      "Epoch 4/7\n",
      "2550/2550 [==============================] - 6s 3ms/step - loss: 0.4774 - accuracy: 0.7825\n",
      "Epoch 5/7\n",
      "2550/2550 [==============================] - 6s 3ms/step - loss: 0.4716 - accuracy: 0.7845\n",
      "Epoch 6/7\n",
      "2550/2550 [==============================] - 6s 3ms/step - loss: 0.4667 - accuracy: 0.7861\n",
      "Epoch 7/7\n",
      "2550/2550 [==============================] - 6s 3ms/step - loss: 0.4627 - accuracy: 0.7873\n",
      "Epoch 1/7\n",
      "2550/2550 [==============================] - 6s 3ms/step - loss: 0.5069 - accuracy: 0.7682\n",
      "Epoch 2/7\n",
      "2550/2550 [==============================] - 6s 3ms/step - loss: 0.4973 - accuracy: 0.7722\n",
      "Epoch 3/7\n",
      "2550/2550 [==============================] - 6s 3ms/step - loss: 0.4875 - accuracy: 0.7753\n",
      "Epoch 4/7\n",
      "2550/2550 [==============================] - 6s 3ms/step - loss: 0.4788 - accuracy: 0.7781\n",
      "Epoch 5/7\n",
      "2550/2550 [==============================] - 6s 3ms/step - loss: 0.4724 - accuracy: 0.7802\n",
      "Epoch 6/7\n",
      "2550/2550 [==============================] - 6s 3ms/step - loss: 0.4669 - accuracy: 0.7827\n",
      "Epoch 7/7\n",
      "2550/2550 [==============================] - 6s 3ms/step - loss: 0.4627 - accuracy: 0.7841\n",
      "Epoch 1/7\n",
      "2549/2549 [==============================] - 6s 2ms/step - loss: 0.5043 - accuracy: 0.7686\n",
      "Epoch 2/7\n",
      "2549/2549 [==============================] - 6s 2ms/step - loss: 0.4962 - accuracy: 0.7724\n",
      "Epoch 3/7\n",
      "2549/2549 [==============================] - 6s 2ms/step - loss: 0.4870 - accuracy: 0.7758\n",
      "Epoch 4/7\n",
      "2549/2549 [==============================] - 6s 2ms/step - loss: 0.4792 - accuracy: 0.7784\n",
      "Epoch 5/7\n",
      "2549/2549 [==============================] - 6s 2ms/step - loss: 0.4732 - accuracy: 0.7816\n",
      "Epoch 6/7\n",
      "2549/2549 [==============================] - 6s 2ms/step - loss: 0.4683 - accuracy: 0.7853\n",
      "Epoch 7/7\n",
      "2549/2549 [==============================] - 6s 2ms/step - loss: 0.4646 - accuracy: 0.7877\n",
      "Epoch 1/7\n",
      "2549/2549 [==============================] - 8s 3ms/step - loss: 0.5184 - accuracy: 0.7609\n",
      "Epoch 2/7\n",
      "2549/2549 [==============================] - 8s 3ms/step - loss: 0.5053 - accuracy: 0.7692\n",
      "Epoch 3/7\n",
      "2549/2549 [==============================] - 7s 3ms/step - loss: 0.4949 - accuracy: 0.7732\n",
      "Epoch 4/7\n",
      "2549/2549 [==============================] - 8s 3ms/step - loss: 0.4853 - accuracy: 0.7755\n",
      "Epoch 5/7\n",
      "2549/2549 [==============================] - 7s 3ms/step - loss: 0.4769 - accuracy: 0.7782\n",
      "Epoch 6/7\n",
      "2549/2549 [==============================] - 7s 3ms/step - loss: 0.4703 - accuracy: 0.7808\n",
      "Epoch 7/7\n",
      "2549/2549 [==============================] - 8s 3ms/step - loss: 0.4650 - accuracy: 0.7832\n",
      "Epoch 1/7\n",
      "2549/2549 [==============================] - 7s 3ms/step - loss: 0.5190 - accuracy: 0.7602\n",
      "Epoch 2/7\n",
      "2549/2549 [==============================] - 7s 3ms/step - loss: 0.5061 - accuracy: 0.7685\n",
      "Epoch 3/7\n",
      "2549/2549 [==============================] - 7s 3ms/step - loss: 0.4963 - accuracy: 0.7725\n",
      "Epoch 4/7\n",
      "2549/2549 [==============================] - 7s 3ms/step - loss: 0.4878 - accuracy: 0.7755\n",
      "Epoch 5/7\n",
      "2549/2549 [==============================] - 7s 3ms/step - loss: 0.4819 - accuracy: 0.7787\n",
      "Epoch 6/7\n",
      "2549/2549 [==============================] - 7s 3ms/step - loss: 0.4769 - accuracy: 0.7827\n",
      "Epoch 7/7\n",
      "2549/2549 [==============================] - 7s 3ms/step - loss: 0.4727 - accuracy: 0.7852\n",
      "Epoch 1/7\n",
      "2549/2549 [==============================] - 6s 2ms/step - loss: 0.5173 - accuracy: 0.7614\n",
      "Epoch 2/7\n",
      "2549/2549 [==============================] - 6s 2ms/step - loss: 0.5046 - accuracy: 0.7694\n",
      "Epoch 3/7\n",
      "2549/2549 [==============================] - 5s 2ms/step - loss: 0.4952 - accuracy: 0.7739\n",
      "Epoch 4/7\n",
      "2549/2549 [==============================] - 5s 2ms/step - loss: 0.4871 - accuracy: 0.7785\n",
      "Epoch 5/7\n",
      "2549/2549 [==============================] - 5s 2ms/step - loss: 0.4809 - accuracy: 0.7822\n",
      "Epoch 6/7\n",
      "2549/2549 [==============================] - 6s 2ms/step - loss: 0.4759 - accuracy: 0.7853\n",
      "Epoch 7/7\n",
      "2549/2549 [==============================] - 6s 2ms/step - loss: 0.4720 - accuracy: 0.7875\n",
      "Epoch 1/7\n",
      "2550/2550 [==============================] - 6s 3ms/step - loss: 0.5181 - accuracy: 0.7611\n",
      "Epoch 2/7\n",
      "2550/2550 [==============================] - 6s 2ms/step - loss: 0.5051 - accuracy: 0.7689\n",
      "Epoch 3/7\n",
      "2550/2550 [==============================] - 7s 3ms/step - loss: 0.4951 - accuracy: 0.7720\n",
      "Epoch 4/7\n",
      "2550/2550 [==============================] - 6s 2ms/step - loss: 0.4870 - accuracy: 0.7763\n",
      "Epoch 5/7\n",
      "2550/2550 [==============================] - 5s 2ms/step - loss: 0.4811 - accuracy: 0.7804\n",
      "Epoch 6/7\n",
      "2550/2550 [==============================] - 6s 2ms/step - loss: 0.4765 - accuracy: 0.7838\n",
      "Epoch 7/7\n",
      "2550/2550 [==============================] - 5s 2ms/step - loss: 0.4722 - accuracy: 0.7865\n",
      "Epoch 1/7\n",
      "2546/2546 [==============================] - 6s 2ms/step - loss: 0.5126 - accuracy: 0.7641\n",
      "Epoch 2/7\n",
      "2546/2546 [==============================] - 6s 2ms/step - loss: 0.5033 - accuracy: 0.7687\n",
      "Epoch 3/7\n",
      "2546/2546 [==============================] - 5s 2ms/step - loss: 0.4942 - accuracy: 0.7734\n",
      "Epoch 4/7\n",
      "2546/2546 [==============================] - 7s 3ms/step - loss: 0.4861 - accuracy: 0.7769\n",
      "Epoch 5/7\n",
      "2546/2546 [==============================] - 7s 3ms/step - loss: 0.4800 - accuracy: 0.7791\n",
      "Epoch 6/7\n",
      "2546/2546 [==============================] - 6s 2ms/step - loss: 0.4752 - accuracy: 0.7813\n",
      "Epoch 7/7\n",
      "2546/2546 [==============================] - 6s 2ms/step - loss: 0.4712 - accuracy: 0.7832\n",
      "Epoch 1/7\n",
      "2545/2545 [==============================] - 6s 2ms/step - loss: 0.5118 - accuracy: 0.7648\n",
      "Epoch 2/7\n",
      "2545/2545 [==============================] - 6s 2ms/step - loss: 0.5029 - accuracy: 0.7693\n",
      "Epoch 3/7\n",
      "2545/2545 [==============================] - 6s 2ms/step - loss: 0.4937 - accuracy: 0.7740\n",
      "Epoch 4/7\n"
     ]
    },
    {
     "name": "stdout",
     "output_type": "stream",
     "text": [
      "2545/2545 [==============================] - 6s 2ms/step - loss: 0.4855 - accuracy: 0.7775\n",
      "Epoch 5/7\n",
      "2545/2545 [==============================] - 6s 2ms/step - loss: 0.4800 - accuracy: 0.7798\n",
      "Epoch 6/7\n",
      "2545/2545 [==============================] - 7s 3ms/step - loss: 0.4748 - accuracy: 0.7816\n",
      "Epoch 7/7\n",
      "2545/2545 [==============================] - 6s 3ms/step - loss: 0.4705 - accuracy: 0.7833\n",
      "Epoch 1/7\n",
      "2546/2546 [==============================] - 6s 2ms/step - loss: 0.5121 - accuracy: 0.7637\n",
      "Epoch 2/7\n",
      "2546/2546 [==============================] - 6s 2ms/step - loss: 0.5032 - accuracy: 0.7678\n",
      "Epoch 3/7\n",
      "2546/2546 [==============================] - 6s 2ms/step - loss: 0.4943 - accuracy: 0.7713\n",
      "Epoch 4/7\n",
      "2546/2546 [==============================] - 6s 2ms/step - loss: 0.4865 - accuracy: 0.7745\n",
      "Epoch 5/7\n",
      "2546/2546 [==============================] - 6s 2ms/step - loss: 0.4804 - accuracy: 0.7766\n",
      "Epoch 6/7\n",
      "2546/2546 [==============================] - 5s 2ms/step - loss: 0.4754 - accuracy: 0.7778\n",
      "Epoch 7/7\n",
      "2546/2546 [==============================] - 6s 2ms/step - loss: 0.4719 - accuracy: 0.7784\n",
      "Epoch 1/7\n",
      "2545/2545 [==============================] - 5s 2ms/step - loss: 0.5151 - accuracy: 0.7625\n",
      "Epoch 2/7\n",
      "2545/2545 [==============================] - 5s 2ms/step - loss: 0.5061 - accuracy: 0.7664\n",
      "Epoch 3/7\n",
      "2545/2545 [==============================] - 5s 2ms/step - loss: 0.4975 - accuracy: 0.7701\n",
      "Epoch 4/7\n",
      "2545/2545 [==============================] - 6s 2ms/step - loss: 0.4890 - accuracy: 0.7734\n",
      "Epoch 5/7\n",
      "2545/2545 [==============================] - 6s 2ms/step - loss: 0.4821 - accuracy: 0.7770\n",
      "Epoch 6/7\n",
      "2545/2545 [==============================] - 5s 2ms/step - loss: 0.4769 - accuracy: 0.7790\n",
      "Epoch 7/7\n",
      "2545/2545 [==============================] - 5s 2ms/step - loss: 0.4723 - accuracy: 0.7803\n",
      "Epoch 1/7\n",
      "2544/2544 [==============================] - 6s 2ms/step - loss: 0.5156 - accuracy: 0.7621\n",
      "Epoch 2/7\n",
      "2544/2544 [==============================] - 6s 2ms/step - loss: 0.5060 - accuracy: 0.7668\n",
      "Epoch 3/7\n",
      "2544/2544 [==============================] - 6s 2ms/step - loss: 0.4971 - accuracy: 0.7710\n",
      "Epoch 4/7\n",
      "2544/2544 [==============================] - 6s 2ms/step - loss: 0.4889 - accuracy: 0.7743\n",
      "Epoch 5/7\n",
      "2544/2544 [==============================] - 6s 2ms/step - loss: 0.4823 - accuracy: 0.7769\n",
      "Epoch 6/7\n",
      "2544/2544 [==============================] - 6s 2ms/step - loss: 0.4775 - accuracy: 0.7785\n",
      "Epoch 7/7\n",
      "2544/2544 [==============================] - 6s 2ms/step - loss: 0.4735 - accuracy: 0.7801\n",
      "Epoch 1/7\n",
      "2544/2544 [==============================] - 6s 2ms/step - loss: 0.5238 - accuracy: 0.7556\n",
      "Epoch 2/7\n",
      "2544/2544 [==============================] - 6s 2ms/step - loss: 0.5108 - accuracy: 0.7640\n",
      "Epoch 3/7\n",
      "2544/2544 [==============================] - 6s 2ms/step - loss: 0.5022 - accuracy: 0.7672\n",
      "Epoch 4/7\n",
      "2544/2544 [==============================] - 6s 2ms/step - loss: 0.4951 - accuracy: 0.7697\n",
      "Epoch 5/7\n",
      "2544/2544 [==============================] - 6s 2ms/step - loss: 0.4893 - accuracy: 0.7735\n",
      "Epoch 6/7\n",
      "2544/2544 [==============================] - 6s 2ms/step - loss: 0.4848 - accuracy: 0.7762\n",
      "Epoch 7/7\n",
      "2544/2544 [==============================] - 6s 2ms/step - loss: 0.4813 - accuracy: 0.7784\n",
      "Epoch 1/7\n",
      "2544/2544 [==============================] - 6s 2ms/step - loss: 0.5156 - accuracy: 0.7612\n",
      "Epoch 2/7\n",
      "2544/2544 [==============================] - 6s 2ms/step - loss: 0.5058 - accuracy: 0.7654\n",
      "Epoch 3/7\n",
      "2544/2544 [==============================] - 6s 2ms/step - loss: 0.4969 - accuracy: 0.7684\n",
      "Epoch 4/7\n",
      "2544/2544 [==============================] - 6s 2ms/step - loss: 0.4906 - accuracy: 0.7706\n",
      "Epoch 5/7\n",
      "2544/2544 [==============================] - 6s 2ms/step - loss: 0.4857 - accuracy: 0.7738\n",
      "Epoch 6/7\n",
      "2544/2544 [==============================] - 6s 2ms/step - loss: 0.4811 - accuracy: 0.7770\n",
      "Epoch 7/7\n",
      "2544/2544 [==============================] - 6s 2ms/step - loss: 0.4776 - accuracy: 0.7794\n",
      "Epoch 1/7\n",
      "2545/2545 [==============================] - 6s 2ms/step - loss: 0.5151 - accuracy: 0.7618\n",
      "Epoch 2/7\n",
      "2545/2545 [==============================] - 6s 2ms/step - loss: 0.5060 - accuracy: 0.7657\n",
      "Epoch 3/7\n",
      "2545/2545 [==============================] - 6s 2ms/step - loss: 0.4970 - accuracy: 0.7695\n",
      "Epoch 4/7\n",
      "2545/2545 [==============================] - 5s 2ms/step - loss: 0.4896 - accuracy: 0.7733\n",
      "Epoch 5/7\n",
      "2545/2545 [==============================] - 5s 2ms/step - loss: 0.4843 - accuracy: 0.7755\n",
      "Epoch 6/7\n",
      "2545/2545 [==============================] - 6s 2ms/step - loss: 0.4800 - accuracy: 0.7778\n",
      "Epoch 7/7\n",
      "2545/2545 [==============================] - 5s 2ms/step - loss: 0.4761 - accuracy: 0.7807\n",
      "Epoch 1/7\n",
      "2308/2308 [==============================] - 5s 2ms/step - loss: 0.5148 - accuracy: 0.7627\n",
      "Epoch 2/7\n",
      "2308/2308 [==============================] - 6s 2ms/step - loss: 0.5058 - accuracy: 0.7661\n",
      "Epoch 3/7\n",
      "2308/2308 [==============================] - 5s 2ms/step - loss: 0.4970 - accuracy: 0.7697\n",
      "Epoch 4/7\n",
      "2308/2308 [==============================] - 5s 2ms/step - loss: 0.4891 - accuracy: 0.7722\n",
      "Epoch 5/7\n",
      "2308/2308 [==============================] - 6s 2ms/step - loss: 0.4826 - accuracy: 0.7746\n",
      "Epoch 6/7\n",
      "2308/2308 [==============================] - 5s 2ms/step - loss: 0.4776 - accuracy: 0.7771\n",
      "Epoch 7/7\n",
      "2308/2308 [==============================] - 5s 2ms/step - loss: 0.4739 - accuracy: 0.7796\n"
     ]
    }
   ],
   "source": [
    "chunksize=10**6\n",
    "beta = 0.9\n",
    "weightsf = []\n",
    "for i, chunk in  enumerate(pd.read_csv('train_data.csv', chunksize=chunksize,sep='|')):\n",
    "    X=chunk.drop(['communication_onlinerate','label','uid'],axis=1)\n",
    "    y=chunk['label']\n",
    "    \n",
    "    X_res1,y_res1=os.fit_sample(X,y)\n",
    "    X_res1=X_res1.values\n",
    "    y_res1=y_res1.values\n",
    "    \n",
    "    X_res1=scaler.fit_transform(X_res1)\n",
    "    if i==0:\n",
    "        model=tensorflow.keras.models.load_model('my_model_initialize.h5')\n",
    "        weightsi = np.array(model.get_weights())\n",
    "        \n",
    "    if i>0:\n",
    "        model=tensorflow.keras.models.load_model('my_model.h5')\n",
    "    \n",
    "    \n",
    "    model.set_weights(weightsi)\n",
    "    layer1=model.layers[0]\n",
    "    layer1.trainable=False\n",
    "    \n",
    "    layer2=model.layers[1]\n",
    "    layer2.trainable=False\n",
    "    \n",
    "    model.fit(x=X_res1,y=y_res1, epochs=7,verbose=1, batch_size=512)\n",
    "    weightsf.append((np.array(model.get_weights())))\n",
    "    \n",
    "    \n",
    "    model.save('my_model.h5')\n",
    "    \n",
    "    "
   ]
  },
  {
   "cell_type": "code",
   "execution_count": 15,
   "metadata": {},
   "outputs": [],
   "source": [
    "weight = weightsi\n",
    "for w in weightsf:\n",
    "    w = np.array(w)\n",
    "    weight += w \n",
    "weight = weight/(len(weightsf)+1)"
   ]
  },
  {
   "cell_type": "code",
   "execution_count": 16,
   "metadata": {},
   "outputs": [],
   "source": [
    "model_final=tensorflow.keras.models.load_model('my_model.h5')"
   ]
  },
  {
   "cell_type": "code",
   "execution_count": 17,
   "metadata": {},
   "outputs": [],
   "source": [
    "model_final.set_weights(weight)\n",
    "model_final.save('my_model_final.h5')"
   ]
  },
  {
   "cell_type": "code",
   "execution_count": null,
   "metadata": {},
   "outputs": [],
   "source": []
  },
  {
   "cell_type": "code",
   "execution_count": 18,
   "metadata": {},
   "outputs": [],
   "source": [
    "import random\n",
    "random.seed(69)\n",
    "p=0.01\n",
    "df_test=pd.read_csv('train_data.csv',header=0,skiprows=lambda i:i>0 and random.random()>p, sep='|')"
   ]
  },
  {
   "cell_type": "code",
   "execution_count": 19,
   "metadata": {},
   "outputs": [],
   "source": [
    "df_test=pd.read_csv('test_data_B.csv', sep='|')\n",
    "\n",
    "id_df = df_test['id']\n",
    "test_X=df_test.drop(['communication_onlinerate','id','uid'],axis=1).values\n",
    "\n",
    "test_X=scaler.transform(test_X)\n"
   ]
  },
  {
   "cell_type": "code",
   "execution_count": null,
   "metadata": {},
   "outputs": [],
   "source": []
  },
  {
   "cell_type": "code",
   "execution_count": null,
   "metadata": {},
   "outputs": [],
   "source": []
  },
  {
   "cell_type": "markdown",
   "metadata": {},
   "source": [
    "df_test"
   ]
  },
  {
   "cell_type": "code",
   "execution_count": 20,
   "metadata": {},
   "outputs": [],
   "source": [
    "model=tensorflow.keras.models.load_model('my_model.h5')"
   ]
  },
  {
   "cell_type": "code",
   "execution_count": 21,
   "metadata": {},
   "outputs": [],
   "source": [
    "pred1=model.predict(test_X)"
   ]
  },
  {
   "cell_type": "code",
   "execution_count": null,
   "metadata": {},
   "outputs": [],
   "source": []
  },
  {
   "cell_type": "code",
   "execution_count": 22,
   "metadata": {},
   "outputs": [],
   "source": [
    "\n",
    "pred1 = pd.DataFrame(data=pred1, columns=['probability'])\n",
    "pred1 = pred1.set_index(id_df)\n"
   ]
  },
  {
   "cell_type": "code",
   "execution_count": 23,
   "metadata": {},
   "outputs": [],
   "source": [
    "pred1 = pred1.set_index(id_df)\n"
   ]
  },
  {
   "cell_type": "code",
   "execution_count": 24,
   "metadata": {},
   "outputs": [
    {
     "data": {
      "text/html": [
       "<div>\n",
       "<style scoped>\n",
       "    .dataframe tbody tr th:only-of-type {\n",
       "        vertical-align: middle;\n",
       "    }\n",
       "\n",
       "    .dataframe tbody tr th {\n",
       "        vertical-align: top;\n",
       "    }\n",
       "\n",
       "    .dataframe thead th {\n",
       "        text-align: right;\n",
       "    }\n",
       "</style>\n",
       "<table border=\"1\" class=\"dataframe\">\n",
       "  <thead>\n",
       "    <tr style=\"text-align: right;\">\n",
       "      <th></th>\n",
       "      <th>probability</th>\n",
       "    </tr>\n",
       "    <tr>\n",
       "      <th>id</th>\n",
       "      <th></th>\n",
       "    </tr>\n",
       "  </thead>\n",
       "  <tbody>\n",
       "    <tr>\n",
       "      <th>1</th>\n",
       "      <td>0.239290</td>\n",
       "    </tr>\n",
       "    <tr>\n",
       "      <th>2</th>\n",
       "      <td>0.102041</td>\n",
       "    </tr>\n",
       "    <tr>\n",
       "      <th>3</th>\n",
       "      <td>0.150603</td>\n",
       "    </tr>\n",
       "    <tr>\n",
       "      <th>4</th>\n",
       "      <td>0.091147</td>\n",
       "    </tr>\n",
       "    <tr>\n",
       "      <th>5</th>\n",
       "      <td>0.187177</td>\n",
       "    </tr>\n",
       "    <tr>\n",
       "      <th>...</th>\n",
       "      <td>...</td>\n",
       "    </tr>\n",
       "    <tr>\n",
       "      <th>999996</th>\n",
       "      <td>0.006240</td>\n",
       "    </tr>\n",
       "    <tr>\n",
       "      <th>999997</th>\n",
       "      <td>0.463371</td>\n",
       "    </tr>\n",
       "    <tr>\n",
       "      <th>999998</th>\n",
       "      <td>0.078026</td>\n",
       "    </tr>\n",
       "    <tr>\n",
       "      <th>999999</th>\n",
       "      <td>0.120654</td>\n",
       "    </tr>\n",
       "    <tr>\n",
       "      <th>1000000</th>\n",
       "      <td>0.082822</td>\n",
       "    </tr>\n",
       "  </tbody>\n",
       "</table>\n",
       "<p>1000000 rows × 1 columns</p>\n",
       "</div>"
      ],
      "text/plain": [
       "         probability\n",
       "id                  \n",
       "1           0.239290\n",
       "2           0.102041\n",
       "3           0.150603\n",
       "4           0.091147\n",
       "5           0.187177\n",
       "...              ...\n",
       "999996      0.006240\n",
       "999997      0.463371\n",
       "999998      0.078026\n",
       "999999      0.120654\n",
       "1000000     0.082822\n",
       "\n",
       "[1000000 rows x 1 columns]"
      ]
     },
     "execution_count": 24,
     "metadata": {},
     "output_type": "execute_result"
    }
   ],
   "source": [
    "pred1"
   ]
  },
  {
   "cell_type": "code",
   "execution_count": 25,
   "metadata": {},
   "outputs": [],
   "source": [
    "import seaborn as sns"
   ]
  },
  {
   "cell_type": "code",
   "execution_count": 26,
   "metadata": {},
   "outputs": [],
   "source": [
    "pred1.to_csv('submission11171.csv')"
   ]
  },
  {
   "cell_type": "code",
   "execution_count": 27,
   "metadata": {},
   "outputs": [
    {
     "name": "stderr",
     "output_type": "stream",
     "text": [
      "C:\\Users\\91966\\anaconda3\\envs\\gputest\\lib\\site-packages\\seaborn\\distributions.py:2551: FutureWarning: `distplot` is a deprecated function and will be removed in a future version. Please adapt your code to use either `displot` (a figure-level function with similar flexibility) or `histplot` (an axes-level function for histograms).\n",
      "  warnings.warn(msg, FutureWarning)\n"
     ]
    },
    {
     "data": {
      "text/plain": [
       "<AxesSubplot:ylabel='Density'>"
      ]
     },
     "execution_count": 27,
     "metadata": {},
     "output_type": "execute_result"
    },
    {
     "data": {
      "image/png": "[encoded data removed]",
      "text/plain": [
       "<Figure size 432x288 with 1 Axes>"
      ]
     },
     "metadata": {
      "needs_background": "light"
     },
     "output_type": "display_data"
    }
   ],
   "source": [
    "sns.distplot(pred1)"
   ]
  },
  {
   "cell_type": "code",
   "execution_count": 28,
   "metadata": {},
   "outputs": [],
   "source": [
    "import seaborn as sns"
   ]
  },
  {
   "cell_type": "markdown",
   "metadata": {},
   "source": [
    "pred1"
   ]
  },
  {
   "cell_type": "code",
   "execution_count": 29,
   "metadata": {},
   "outputs": [],
   "source": [
    "\n",
    "random.seed(5)\n",
    "p=0.01\n",
    "random_data=pd.read_csv('train_data.csv',header=0,skiprows=lambda i:i>0 and random.random()>p, sep='|')"
   ]
  },
  {
   "cell_type": "code",
   "execution_count": 30,
   "metadata": {},
   "outputs": [],
   "source": [
    "X_random=random_data.drop(['communication_onlinerate','label','uid'],axis=1)\n",
    "Y_random=random_data['label']"
   ]
  },
  {
   "cell_type": "code",
   "execution_count": 31,
   "metadata": {},
   "outputs": [],
   "source": [
    "X_random=scaler.transform(X_random)"
   ]
  },
  {
   "cell_type": "code",
   "execution_count": 32,
   "metadata": {},
   "outputs": [
    {
     "name": "stdout",
     "output_type": "stream",
     "text": [
      "WARNING:tensorflow:From <ipython-input-32-218242e848f8>:1: Sequential.predict_classes (from tensorflow.python.keras.engine.sequential) is deprecated and will be removed after 2021-01-01.\n",
      "Instructions for updating:\n",
      "Please use instead:* `np.argmax(model.predict(x), axis=-1)`,   if your model does multi-class classification   (e.g. if it uses a `softmax` last-layer activation).* `(model.predict(x) > 0.5).astype(\"int32\")`,   if your model does binary classification   (e.g. if it uses a `sigmoid` last-layer activation).\n"
     ]
    }
   ],
   "source": [
    "pred_random=model.predict_classes(X_random)"
   ]
  },
  {
   "cell_type": "code",
   "execution_count": 33,
   "metadata": {},
   "outputs": [
    {
     "name": "stdout",
     "output_type": "stream",
     "text": [
      "              precision    recall  f1-score   support\n",
      "\n",
      "           0       0.97      0.90      0.93    404280\n",
      "           1       0.06      0.19      0.09     14629\n",
      "\n",
      "    accuracy                           0.87    418909\n",
      "   macro avg       0.51      0.54      0.51    418909\n",
      "weighted avg       0.94      0.87      0.90    418909\n",
      "\n",
      "\n",
      "\n",
      "[[362065  42215]\n",
      " [ 11882   2747]]\n"
     ]
    }
   ],
   "source": [
    "from sklearn.metrics import classification_report, confusion_matrix\n",
    "print(classification_report(Y_random,pred_random))\n",
    "print('\\n')\n",
    "print(confusion_matrix(Y_random,pred_random))"
   ]
  },
  {
   "cell_type": "code",
   "execution_count": 34,
   "metadata": {},
   "outputs": [],
   "source": [
    "pred_random=model_final.predict_classes(X_random)"
   ]
  },
  {
   "cell_type": "code",
   "execution_count": 35,
   "metadata": {},
   "outputs": [
    {
     "name": "stdout",
     "output_type": "stream",
     "text": [
      "              precision    recall  f1-score   support\n",
      "\n",
      "           0       0.97      0.93      0.95    404280\n",
      "           1       0.07      0.14      0.09     14629\n",
      "\n",
      "    accuracy                           0.90    418909\n",
      "   macro avg       0.52      0.54      0.52    418909\n",
      "weighted avg       0.94      0.90      0.92    418909\n",
      "\n",
      "\n",
      "\n",
      "[[376509  27771]\n",
      " [ 12518   2111]]\n"
     ]
    }
   ],
   "source": [
    "from sklearn.metrics import classification_report, confusion_matrix\n",
    "print(classification_report(Y_random,pred_random))\n",
    "print('\\n')\n",
    "print(confusion_matrix(Y_random,pred_random))"
   ]
  },
  {
   "cell_type": "code",
   "execution_count": 36,
   "metadata": {},
   "outputs": [],
   "source": [
    "pred_final=model_final.predict(test_X)"
   ]
  },
  {
   "cell_type": "code",
   "execution_count": 37,
   "metadata": {},
   "outputs": [],
   "source": [
    "pred_final = pd.DataFrame(data=pred_final, columns=['probability'])\n",
    "pred_final = pred_final.set_index(id_df)\n"
   ]
  },
  {
   "cell_type": "code",
   "execution_count": 38,
   "metadata": {},
   "outputs": [
    {
     "data": {
      "text/html": [
       "<div>\n",
       "<style scoped>\n",
       "    .dataframe tbody tr th:only-of-type {\n",
       "        vertical-align: middle;\n",
       "    }\n",
       "\n",
       "    .dataframe tbody tr th {\n",
       "        vertical-align: top;\n",
       "    }\n",
       "\n",
       "    .dataframe thead th {\n",
       "        text-align: right;\n",
       "    }\n",
       "</style>\n",
       "<table border=\"1\" class=\"dataframe\">\n",
       "  <thead>\n",
       "    <tr style=\"text-align: right;\">\n",
       "      <th></th>\n",
       "      <th>probability</th>\n",
       "    </tr>\n",
       "    <tr>\n",
       "      <th>id</th>\n",
       "      <th></th>\n",
       "    </tr>\n",
       "  </thead>\n",
       "  <tbody>\n",
       "    <tr>\n",
       "      <th>1</th>\n",
       "      <td>0.861345</td>\n",
       "    </tr>\n",
       "    <tr>\n",
       "      <th>2</th>\n",
       "      <td>0.097352</td>\n",
       "    </tr>\n",
       "    <tr>\n",
       "      <th>3</th>\n",
       "      <td>0.093449</td>\n",
       "    </tr>\n",
       "    <tr>\n",
       "      <th>4</th>\n",
       "      <td>0.102225</td>\n",
       "    </tr>\n",
       "    <tr>\n",
       "      <th>5</th>\n",
       "      <td>0.196346</td>\n",
       "    </tr>\n",
       "    <tr>\n",
       "      <th>...</th>\n",
       "      <td>...</td>\n",
       "    </tr>\n",
       "    <tr>\n",
       "      <th>999996</th>\n",
       "      <td>0.132607</td>\n",
       "    </tr>\n",
       "    <tr>\n",
       "      <th>999997</th>\n",
       "      <td>0.435874</td>\n",
       "    </tr>\n",
       "    <tr>\n",
       "      <th>999998</th>\n",
       "      <td>0.093225</td>\n",
       "    </tr>\n",
       "    <tr>\n",
       "      <th>999999</th>\n",
       "      <td>0.101569</td>\n",
       "    </tr>\n",
       "    <tr>\n",
       "      <th>1000000</th>\n",
       "      <td>0.090210</td>\n",
       "    </tr>\n",
       "  </tbody>\n",
       "</table>\n",
       "<p>1000000 rows × 1 columns</p>\n",
       "</div>"
      ],
      "text/plain": [
       "         probability\n",
       "id                  \n",
       "1           0.861345\n",
       "2           0.097352\n",
       "3           0.093449\n",
       "4           0.102225\n",
       "5           0.196346\n",
       "...              ...\n",
       "999996      0.132607\n",
       "999997      0.435874\n",
       "999998      0.093225\n",
       "999999      0.101569\n",
       "1000000     0.090210\n",
       "\n",
       "[1000000 rows x 1 columns]"
      ]
     },
     "execution_count": 38,
     "metadata": {},
     "output_type": "execute_result"
    }
   ],
   "source": [
    "pred_final"
   ]
  },
  {
   "cell_type": "code",
   "execution_count": 39,
   "metadata": {},
   "outputs": [
    {
     "name": "stderr",
     "output_type": "stream",
     "text": [
      "C:\\Users\\91966\\anaconda3\\envs\\gputest\\lib\\site-packages\\seaborn\\distributions.py:2551: FutureWarning: `distplot` is a deprecated function and will be removed in a future version. Please adapt your code to use either `displot` (a figure-level function with similar flexibility) or `histplot` (an axes-level function for histograms).\n",
      "  warnings.warn(msg, FutureWarning)\n"
     ]
    },
    {
     "data": {
      "text/plain": [
       "<AxesSubplot:ylabel='Density'>"
      ]
     },
     "execution_count": 39,
     "metadata": {},
     "output_type": "execute_result"
    },
    {
     "data": {
      "image/png": "[encoded data removed]",
      "text/plain": [
       "<Figure size 432x288 with 1 Axes>"
      ]
     },
     "metadata": {
      "needs_background": "light"
     },
     "output_type": "display_data"
    }
   ],
   "source": [
    "sns.distplot(pred_final)"
   ]
  },
  {
   "cell_type": "code",
   "execution_count": 40,
   "metadata": {},
   "outputs": [],
   "source": [
    "pred_final.to_csv('submission_finalB.csv')"
   ]
  },
  {
   "cell_type": "code",
   "execution_count": null,
   "metadata": {},
   "outputs": [],
   "source": []
  }
 ],
 "metadata": {
  "kernelspec": {
   "display_name": "gputest",
   "language": "python",
   "name": "gputest"
  },
  "language_info": {
   "codemirror_mode": {
    "name": "ipython",
    "version": 3
   },
   "file_extension": ".py",
   "mimetype": "text/x-python",
   "name": "python",
   "nbconvert_exporter": "python",
   "pygments_lexer": "ipython3",
   "version": "3.8.5"
  }
 },
 "nbformat": 4,
 "nbformat_minor": 4
}
